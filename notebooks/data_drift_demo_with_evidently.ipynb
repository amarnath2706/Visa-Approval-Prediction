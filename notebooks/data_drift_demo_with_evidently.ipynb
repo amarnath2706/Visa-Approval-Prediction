{
 "cells": [
  {
   "cell_type": "code",
   "execution_count": 1,
   "metadata": {},
   "outputs": [
    {
     "name": "stdout",
     "output_type": "stream",
     "text": [
      "muruga\n"
     ]
    }
   ],
   "source": [
    "print('muruga')"
   ]
  },
  {
   "cell_type": "code",
   "execution_count": 2,
   "metadata": {},
   "outputs": [],
   "source": [
    "#import some libraries\n",
    "import pandas as pd\n",
    "from evidently.dashboard import Dashboard\n",
    "from evidently.tabs import data_drift_tab, CatTargetDriftTab\n",
    "from evidently.model_profile import Profile\n",
    "from evidently.profile_sections import DataDriftProfileSection"
   ]
  },
  {
   "cell_type": "code",
   "execution_count": null,
   "metadata": {},
   "outputs": [],
   "source": []
  }
 ],
 "metadata": {
  "kernelspec": {
   "display_name": "visa_approval",
   "language": "python",
   "name": "python3"
  },
  "language_info": {
   "codemirror_mode": {
    "name": "ipython",
    "version": 3
   },
   "file_extension": ".py",
   "mimetype": "text/x-python",
   "name": "python",
   "nbconvert_exporter": "python",
   "pygments_lexer": "ipython3",
   "version": "3.8.19"
  }
 },
 "nbformat": 4,
 "nbformat_minor": 2
}
